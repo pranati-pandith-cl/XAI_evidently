{
 "cells": [
  {
   "cell_type": "code",
   "execution_count": 1,
   "metadata": {},
   "outputs": [],
   "source": [
    "# STEP 1: Imports\n",
    "import os\n",
    "import json\n",
    "import pandas as pd\n",
    "import boto3\n",
    "from sklearn.model_selection import train_test_split\n",
    "from sklearn.ensemble import RandomForestClassifier\n",
    "from witwidget.notebook.visualization import WitWidget, WitConfigBuilder"
   ]
  },
  {
   "cell_type": "code",
   "execution_count": 2,
   "metadata": {},
   "outputs": [],
   "source": [
    "# STEP 2: Load data\n",
    "df = pd.read_csv(\"bank.csv\")\n",
    "df = df.dropna()\n",
    "df_encoded = pd.get_dummies(df)\n",
    "X = df_encoded.drop(\"y_yes\", axis=1, errors=\"ignore\")\n",
    "y = df_encoded.get(\"y_yes\", df_encoded.iloc[:, -1])"
   ]
  },
  {
   "cell_type": "code",
   "execution_count": 3,
   "metadata": {},
   "outputs": [],
   "source": [
    "# STEP 3: Train model\n",
    "X_train, X_test, y_train, y_test = train_test_split(X, y, stratify=y, random_state=42)\n",
    "model = RandomForestClassifier()\n",
    "model.fit(X_train, y_train)\n",
    "\n",
    "examples = X_test.copy()\n",
    "examples[\"predicted\"] = model.predict(X_test)\n",
    "examples[\"probabilities\"] = list(model.predict_proba(X_test))\n",
    "wit_examples = json.loads(examples.to_json(orient=\"records\"))"
   ]
  },
  {
   "cell_type": "code",
   "execution_count": 5,
   "metadata": {},
   "outputs": [
    {
     "data": {
      "text/html": [
       "<style>.container { width:100% !important; }</style>"
      ],
      "text/plain": [
       "<IPython.core.display.HTML object>"
      ]
     },
     "metadata": {},
     "output_type": "display_data"
    },
    {
     "data": {
      "application/vnd.jupyter.widget-view+json": {
       "model_id": "ddd13e81d17449fa9788aca2affbe62f",
       "version_major": 2,
       "version_minor": 0
      },
      "text/plain": [
       "WitWidget(config={'model_type': 'classification', 'label_vocab': ['no', 'yes'], 'uses_json_input': True}, layo…"
      ]
     },
     "execution_count": 5,
     "metadata": {},
     "output_type": "execute_result"
    }
   ],
   "source": [
    "# STEP 5: Convert all values in wit_examples to strings for WIT compatibility\n",
    "examples_str = X_test.copy()\n",
    "examples_str[\"predicted\"] = model.predict(X_test)\n",
    "examples_str[\"probabilities\"] = list(model.predict_proba(X_test))\n",
    "examples_str = examples_str.astype(str)  # Convert all values to string\n",
    "\n",
    "wit_examples = json.loads(examples_str.to_json(orient=\"records\"))\n",
    "config_builder = (\n",
    "    WitConfigBuilder(wit_examples)\n",
    "    .set_model_type('classification')\n",
    "    .set_label_vocab(['no', 'yes'])\n",
    ")\n",
    "WitWidget(config_builder)"
   ]
  },
  {
   "cell_type": "code",
   "execution_count": 6,
   "metadata": {},
   "outputs": [],
   "source": [
    "# STEP 5: Bedrock LLM Summary Function\n",
    "def get_bedrock_llm_summary_claude(example):\n",
    "    import json\n",
    "    import boto3\n",
    "\n",
    "    prompt = f\"\"\"\n",
    "You are an expert financial assistant. Given this customer profile, explain in plain English why the model predicted what it did:\n",
    "\n",
    "{json.dumps(example, indent=2)}\n",
    "\n",
    "Summarize customer background, key factors, and prediction reasoning.\n",
    "\"\"\"\n",
    "\n",
    "    bedrock = boto3.client(\n",
    "        \"bedrock-runtime\",\n",
    "        region_name=\"us-east-1\",\n",
    "        aws_access_key_id=os.getenv(\"AWS_ACCESS_KEY_ID\"),\n",
    "        aws_secret_access_key=os.getenv(\"AWS_SECRET_ACCESS_KEY\")\n",
    "    )\n",
    "\n",
    "    request_body = {\n",
    "        \"anthropic_version\": \"bedrock-2023-05-31\",\n",
    "        \"max_tokens\": 1000,\n",
    "        \"messages\": [{\"role\": \"user\", \"content\": prompt}],\n",
    "        \"temperature\": 0.3\n",
    "    }\n",
    "\n",
    "    response = bedrock.invoke_model(\n",
    "        modelId=\"us.anthropic.claude-3-7-sonnet-20250219-v1:0\",\n",
    "        body=json.dumps(request_body)\n",
    "    )\n",
    "\n",
    "    result = json.loads(response[\"body\"].read())\n",
    "    return result[\"content\"][0][\"text\"]"
   ]
  },
  {
   "cell_type": "code",
   "execution_count": 7,
   "metadata": {},
   "outputs": [
    {
     "name": "stdout",
     "output_type": "stream",
     "text": [
      "\n",
      "🔍 What-If Scenario 1:\n",
      "# Analysis of Bank Deposit Prediction\n",
      "\n",
      "## Customer Profile Summary\n",
      "This 33-year-old married technician with tertiary education has a bank balance of $1,500. They have no default history, no personal loan, and were contacted via cellular phone in July for a 90-second call. This was their 3rd contact in the current campaign, with no previous campaign contacts.\n",
      "\n",
      "## Key Factors Influencing the Prediction\n",
      "The model predicted this customer would **not** subscribe to a term deposit, with high confidence (probability of 0%). Here's why:\n",
      "\n",
      "1. **Limited Balance**: The $1,500 balance suggests limited disposable income for investment products.\n",
      "\n",
      "2. **Contact Timing**: July contacts typically show lower conversion rates, possibly due to summer vacation periods when financial planning isn't a priority.\n",
      "\n",
      "3. **Short Call Duration**: The 90-second call duration indicates minimal engagement or interest in the offering.\n",
      "\n",
      "4. **Campaign History**: This was their 3rd contact in the current campaign with no positive response yet, suggesting resistance to the offering.\n",
      "\n",
      "5. **No Previous Campaign History**: With pdays = -1 and previous = 0, there's no historical data showing interest in similar products.\n",
      "\n",
      "6. **Demographic Factors**: While tertiary education typically correlates positively with investment interest, the combination of being a technician (moderate income profession) with family responsibilities (married status) may limit investment capacity.\n",
      "\n",
      "The model likely recognized patterns from similar customers who declined deposit offers under comparable circumstances, leading to this confident negative prediction.\n",
      "\n",
      "🔍 What-If Scenario 2:\n",
      "# Analysis of Bank Deposit Prediction\n",
      "\n",
      "## Customer Profile Summary\n",
      "This customer is a 33-year-old married technician with tertiary education. They have a negative account balance of €482, a housing loan but no personal loan, and no history of credit default. The contact was made via cellular phone in July, with a call duration of 600 seconds. The customer has been contacted 3 times during this campaign, with no previous contacts recorded.\n",
      "\n",
      "## Key Factors Influencing the Prediction\n",
      "\n",
      "The model predicted that this customer would **not** subscribe to a term deposit, with a very high confidence (probability of 100% for \"no\"). Here's why:\n",
      "\n",
      "1. **Negative Account Balance**: The customer's balance of -€482 suggests financial constraints, making them less likely to have disposable income for a term deposit.\n",
      "\n",
      "2. **Existing Financial Commitments**: The customer has a housing loan, which represents an ongoing financial obligation.\n",
      "\n",
      "3. **Contact Timing**: July contacts often have lower conversion rates compared to other months, possibly due to summer holidays.\n",
      "\n",
      "4. **No Previous Success History**: The \"poutcome_unknown\" indicates no previous marketing campaign results to build upon.\n",
      "\n",
      "5. **Moderate Campaign Contact Count**: Having been contacted 3 times in the current campaign without conversion may indicate resistance to the offer.\n",
      "\n",
      "6. **Demographic Factors**: While the customer has positive indicators like tertiary education, their relatively young age (33) and technician profession may correlate with prioritizing other financial goals over savings products.\n",
      "\n",
      "7. **Call Duration**: Despite the relatively long call duration (600 seconds), other negative factors outweighed this potential positive engagement signal.\n",
      "\n",
      "The model likely learned from patterns showing that customers with similar profiles (negative balance, housing commitments, contacted multiple times without success) rarely opt for term deposits.\n",
      "\n",
      "🔍 What-If Scenario 3:\n",
      "# Explanation of Prediction: Not Likely to Make a Deposit\n",
      "\n",
      "## Customer Profile Summary\n",
      "This customer is a 33-year-old married technician with tertiary (higher) education. They have a negative account balance of -€482, currently have a housing loan but no personal loans, and have no history of defaulting on payments. The customer was contacted via cell phone in July, with the call lasting 90 seconds.\n",
      "\n",
      "## Key Factors Influencing the Negative Prediction\n",
      "\n",
      "The model predicted this customer would **not** make a deposit (predicted: \"False\"), with a very high confidence level (probability of 100% for \"no\"). Here's why:\n",
      "\n",
      "1. **Negative Account Balance (-€482)**: This is likely the strongest negative factor. Customers with negative balances typically don't have excess funds to place in deposit accounts.\n",
      "\n",
      "2. **Short Call Duration (90 seconds)**: The brief 90-second conversation suggests the customer quickly declined the offer without showing interest or engaging in a detailed discussion about the deposit product.\n",
      "\n",
      "3. **Recent Previous Contact (pdays: 5)**: The customer was contacted just 5 days ago in a previous campaign but didn't convert (previous: 0), indicating recent rejection of banking offers.\n",
      "\n",
      "4. **Housing Loan Obligation**: The customer already has mortgage commitments, which may limit their ability to lock away additional funds in a deposit account.\n",
      "\n",
      "5. **Campaign Contact Count (3)**: This is the third attempt to reach this customer in the current campaign, with previous attempts not resulting in success.\n",
      "\n",
      "6. **Unknown Previous Outcome**: With no record of successful past interactions (poutcome_unknown: True), the model lacks positive historical data points.\n",
      "\n",
      "## Summary\n",
      "The model's strong negative prediction is primarily driven by the customer's negative account balance, short interaction time, and recent unsuccessful contact history. While the customer has positive attributes (stable job, higher education, no defaults), their current financial situation and response pattern strongly suggest they are not in a position to make a deposit at this time.\n"
     ]
    }
   ],
   "source": [
    "# STEP 6: What-If Scenarios\n",
    "scenarios = [\n",
    "    {\"balance\": \"1500\", \"housing_yes\": \"0\"},  # Higher balance, no housing loan\n",
    "    {\"duration\": \"600\"},                         # Longer call duration\n",
    "    {\"pdays\": \"5\"},                             # Had recent contact\n",
    "]\n",
    "\n",
    "for i, changes in enumerate(scenarios):\n",
    "    example = wit_examples[0].copy()\n",
    "    example.update(changes)\n",
    "    summary = get_bedrock_llm_summary_claude(example)\n",
    "    print(f\"\\n🔍 What-If Scenario {i+1}:\")\n",
    "    print(summary)"
   ]
  }
 ],
 "metadata": {
  "kernelspec": {
   "display_name": "venv",
   "language": "python",
   "name": "python3"
  },
  "language_info": {
   "codemirror_mode": {
    "name": "ipython",
    "version": 3
   },
   "file_extension": ".py",
   "mimetype": "text/x-python",
   "name": "python",
   "nbconvert_exporter": "python",
   "pygments_lexer": "ipython3",
   "version": "3.9.6"
  }
 },
 "nbformat": 4,
 "nbformat_minor": 5
}
